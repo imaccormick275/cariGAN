{
 "cells": [
  {
   "cell_type": "markdown",
   "metadata": {},
   "source": [
    "# CariGAN Introduction:\n",
    "\n"
   ]
  },
  {
   "cell_type": "markdown",
   "metadata": {},
   "source": [
    "<b>NOTE: </b>Initially I wrote this series of notebooks purely for my own understanding, however I have since adapted them slightly so they can be followed by others. For anyone following them, if they do not run flawlessly for you, I won't be able provide assistance. With some work they should guide you to replicating this algorithm yourself.\n",
    "\n",
    "I remember seeing this project in the news in 2018 when it was published. I was immediately fascinated! This algorithm had managed to extract both the style and form of a work of caricature artist and apply it to an input image. From here my interest expanded to the use of deep learning approaches in art and content creation and what this may mean for the future of the art and design. I have put links to a few of my favourite resources below to get you inspired!\n",
    "\n",
    "* CariGAN Two Minute Papers: https://www.youtube.com/watch?v=V6G717ewUuw\n",
    "* Algorithms and design: https://algorithms.design/\n",
    "* Pndar Van Arman: http://www.cloudpainter.com/\n",
    "\n",
    "The best way to learn is to do! My approach was very much bottom down, I had only been programming for about 1 year when I started this project, and was about halfway through my first tensorflow course. You will not need to be a deep learning wizard to get through this project. However you will have to have knowledge of the basics of tensorflow, and understanding of neural networks, competent with numpy, knowledge of pandas / scikit learn. I would suggest completeing these two courses or similar on machine learning / tensorflow sylabuses| before starting:\n",
    "\n",
    "* https://www.coursera.org/learn/machine-learning?utm_source=gg&utm_medium=sem&utm_content=07-StanfordML-IN&campaignid=1950458127&adgroupid=70479331563&device=c&keyword=andrew%20ng%20machine%20learning&matchtype=e&network=g&devicemodel=&adpostion=1t1&creativeid=351348153032&hide_mobile_promo&gclid=CjwKCAiAzuPuBRAIEiwAkkmOSM-1jN6zMPLpN9at-qOcVfctGaVtQSjmYVrHSdCaIEOTI-kyBJ_k3BoCP4sQAvD_BwE\n",
    "* https://www.kadenze.com/courses/creative-applications-of-deep-learning-with-tensorflow/info\n"
   ]
  },
  {
   "cell_type": "markdown",
   "metadata": {},
   "source": [
    "##### Objective:\n",
    "\n",
    "In this series of notebooks we will look at replicating the work of a caricature artists using deep learning methods. \n",
    "The approach used takes from the following research paper: https://ai.stanford.edu/~kaidicao/carigan.pdf\n",
    "The aim is to replicate the results obtined from this research paper, along the way learning about all the key aspects of cycleGANs.\n",
    "\n",
    "<img src='results.png'>\n",
    "\n",
    "\n",
    "##### Limitations\n",
    "\n",
    "At the time of writing I have only implemented cariGeoGAN, that is to reproduce geometric facial deformation only and not the style. I am in the process of implementing the cariStyleGAN and will update this series of notebooks when it is finished.\n"
   ]
  },
  {
   "cell_type": "markdown",
   "metadata": {},
   "source": [
    "##### Read the Paper:\n",
    "\n",
    "Before doing anytihng, I strongly strongly suggest you read the paper once or twice through. Even if it makes no sense at all. Just familiarise yourself with it, we will be reffering to it extensively throughout the project."
   ]
  },
  {
   "cell_type": "markdown",
   "metadata": {},
   "source": [
    "##### Definitions from Paper:\n",
    "\n",
    "We will start by extracting all the key definitions used within the paper. To gain better understanding we will dive into each of these terms, researching and obtaining further learning materials where necessary. For many of the key definitions will define simple examples to better aid understanding. Even key terms that may already be familiar, we will look at in context of the cariGAN paper e.g. Principle Component Analysis. This will all be done in a series of notebooks.\n",
    "\n",
    "<b>NOTE:</b> If there are any terms, other than the ones below, which are not familiar, I suggest creating your own notebook to aid understanding. \n",
    "\n",
    "##### CariGeoGAN:\n",
    "\n",
    "This is a really good place to start when learning about cycleGANs. In many ways it is much simpler than most cycleGANs as it does not require any understanding of convolution (we'll get into this later)\n",
    "\n",
    "* cycleGAN\n",
    "* Generator network\n",
    "* Discriminator network\n",
    "* Affine transformation\n",
    "* PCA: principle component analysis\n",
    "* Loss functions used in CariGeoGAN\n",
    "    * Adversarial Loss\n",
    "    * Bidirectional Cycle-Consistency Loss\n",
    "    * Cycle-consistency loss\n",
    "    * New characteristic loss\n",
    "* Cosine difference\n",
    "* Differentialble spline interpolation - image warping\n",
    "\n",
    "\n",
    "##### CariStyleGAN:\n",
    "* Domain invariance\n",
    "* Domain-specific properties\n",
    "* Convolutional\n",
    "* Auto-encoders\n",
    "* Conent / Style code\n",
    "* Loss functions used in CariGeoGAN\n",
    "    * Adversarial Loss\n",
    "    * Cycle-consistency loss\n",
    "    * Reconstruction loss\n",
    "    * Perception loss\n"
   ]
  },
  {
   "cell_type": "markdown",
   "metadata": {},
   "source": [
    "##### DataSets:\n",
    "\n",
    "Currently the only dataset we use in implementing cariGAN. This dataset requires permission from Nanjing university. \n",
    "\n",
    "* WebCaricature: https://cs.nju.edu.cn/rl/WebCaricature.html\n",
    "\n",
    "However at a later point, the same algorithm could in theory be used to extract style and form from any cartoon sytle. When cariStyleGAN is completed (see limitations above) we will look at implementing the same algorithn using the Manga109 dataset. This dataset requires permission from Osaka University.\n",
    "\n",
    "*  Manga109: http://www.manga109.org/en/\n",
    "\n"
   ]
  }
 ],
 "metadata": {
  "kernelspec": {
   "display_name": "Python [conda env:cariGeoGAN]",
   "language": "python",
   "name": "conda-env-cariGeoGAN-py"
  },
  "language_info": {
   "codemirror_mode": {
    "name": "ipython",
    "version": 3
   },
   "file_extension": ".py",
   "mimetype": "text/x-python",
   "name": "python",
   "nbconvert_exporter": "python",
   "pygments_lexer": "ipython3",
   "version": "3.6.9"
  }
 },
 "nbformat": 4,
 "nbformat_minor": 2
}
