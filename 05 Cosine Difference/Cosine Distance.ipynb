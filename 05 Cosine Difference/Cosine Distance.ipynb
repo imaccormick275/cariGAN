{
 "cells": [
  {
   "cell_type": "markdown",
   "metadata": {},
   "source": [
    "# Cosine Difference"
   ]
  },
  {
   "cell_type": "markdown",
   "metadata": {},
   "source": [
    "##### New Characteristic Loss \n",
    "\n",
    "The underlying idea is that the differences from a face to the mean face represent its most distinctive features and thus should be kept after exaggeration. For example, if a face has a larger nose compared to a normal face, this distinctiveness will be preserved or even exaggerated after converting to caricature.\n",
    "\n",
    "This is achieved by penalising the cosine differences between input landmark lx ∈ LX and the predicted one GLY (lx ) after subtracting its corresponding means:\n",
    "\n",
    "* $ L_{cha}^{L_Y} (G_{L_Y}) = E_{l_x  L_X}[1 - cos(l_x - \\overline{L_X}, G_{L_Y}(l_x) - \\overline{L_{Y}})]$\n",
    "* $ L_{cha}^{L_X} (G_{L_X}) = E_{l_y  L_Y}[1 - cos(l_y - \\overline{L_Y}, G_{L_X}(l_y) - \\overline{L_{X}})]$\n",
    "\n",
    "\n",
    "<b>Definitions:</b>\n",
    "* $cos$ - represents the cosine difference\n",
    "* $l_{x}$ - individual pca_vector within pca_matrix relating to image $x \\in X$\n",
    "* $l_{y}$ - individual pca_vector within pca_matrix relating to image $y \\in Y$\n",
    "* $\\overline{L_X}$ - mean of pca_matrix X\n",
    "\n",
    "* $\\overline{L_Y}$ - mean of pca_matrix Y\n",
    "* $l_x - \\overline{L_X}$ - difference between given pca vector x and mean of pca_matrix X\n",
    "* $l_y - \\overline{L_Y}$ - difference between given pca vector y and mean of pca_matrix Y\n",
    "\n",
    "* $G_{L_Y}(l_x) - \\overline{L_{Y}}$ - difference between generated (fake) pca vector y and mean of pca_matrix Y\n",
    "\n",
    "<b>Resources:</b>\n",
    "* https://medium.com/@zhang_yang/cosine-similarity-dot-product-for-normalized-vectors-c07bdb61c9d1\n",
    "\n",
    "NOTE: cosine difference is simply 1 minus cosine similarity"
   ]
  },
  {
   "cell_type": "markdown",
   "metadata": {},
   "source": [
    "### Cosine Difference Definition\n",
    "\n",
    "https://en.wikipedia.org/wiki/Cosine_similarity\n",
    "\n",
    "Cosine similarity is a measure of similarity between two non-zero vectors of an inner product space that measures the cosine of the angle between them. The cosine of 0° is 1, and it is less than 1 for any angle in the interval (0,π] radians. It is thus a judgment of orientation and not magnitude: two vectors with the same orientation have a cosine similarity of 1, two vectors oriented at 90° relative to each other have a similarity of 0, and two vectors diametrically opposed have a similarity of -1, independent of their magnitude. \n",
    "\n",
    "Cosine difference $d$ is simply 1 - cosine similarity, where A and B are vectors\n",
    "\n",
    "$$ d = 1 - \\frac{A \\cdot B} {\\mid\\mid A \\mid\\mid \\mid\\mid B \\mid\\mid}$$\n",
    "\n",
    "Very simply put it is a measure of how similar to vectors are ignoring their length. If they have the same direction the similarity is 1. if they are orthogonal the similarity is 0. if their directions are opposite their similarity is -1."
   ]
  },
  {
   "cell_type": "markdown",
   "metadata": {},
   "source": [
    "### Cosine Difference in Higher Dimensional Space:\n",
    "\n",
    "The top answer on this stackoverflow link gives a really simple example about cosine similarity in higher dimension space\n",
    "\n",
    "https://stackoverflow.com/questions/1746501/can-someone-give-an-example-of-cosine-similarity-in-a-very-simple-graphical-wa"
   ]
  },
  {
   "cell_type": "markdown",
   "metadata": {},
   "source": [
    "### Cosine Difference Numpy/Scipi/Sklearn Implementation: 2D"
   ]
  },
  {
   "cell_type": "code",
   "execution_count": 1,
   "metadata": {},
   "outputs": [
    {
     "name": "stdout",
     "output_type": "stream",
     "text": [
      "cosine distance of vectors with same direction: 0.0\n",
      "cosine distance of orthoganol vectors: 1.0\n",
      "cosine distance of vectors with opposite directions: 2.0\n"
     ]
    }
   ],
   "source": [
    "# cosine distance exapmle\n",
    "\n",
    "# both packages used to calc cosine distance, one for vector calc and one for matrix calc\n",
    "# we will check one against the other\n",
    "import scipy.spatial.distance as spat_dist\n",
    "from sklearn.metrics.pairwise import cosine_similarity\n",
    "from sklearn.preprocessing import normalize\n",
    "import numpy as np\n",
    "import tensorflow as tf\n",
    "import matplotlib.pyplot as plt\n",
    "import pandas as pd\n",
    "\n",
    "# example of cosine distance claculaion for vector\n",
    "cosine_distance = spat_dist.cosine(np.array([2, 0]), np.array([1, 0]))\n",
    "print('cosine distance of vectors with same direction: ' + str(cosine_distance))\n",
    "cosine_distance = spat_dist.cosine(np.array([0, 2]), np.array([1, 0]))\n",
    "print('cosine distance of orthoganol vectors: ' + str(cosine_distance))\n",
    "cosine_distance = spat_dist.cosine(np.array([-5, 0]), np.array([1, 0]))\n",
    "print('cosine distance of vectors with opposite directions: ' + str(cosine_distance))\n"
   ]
  },
  {
   "cell_type": "markdown",
   "metadata": {},
   "source": [
    "### Cosine Difference Numpy/Scipi/Sklearn Implementation: Multi Dimensional"
   ]
  },
  {
   "cell_type": "code",
   "execution_count": 2,
   "metadata": {},
   "outputs": [],
   "source": [
    "# import some data: note the shape of these csv are n rows x 32 columns - where the 32 columns\n",
    "# represent the 32 principle components that we feed into our neural network\n",
    "real_Y = pd.read_csv('coords_pca_Y.csv', index_col=0).to_numpy()\n",
    "real_X = pd.read_csv('coords_pca_X.csv', index_col=0).to_numpy()\n",
    "\n",
    "# define some arbitrary fake_X for the purposes of the example\n",
    "# in reality this will be the output of the generator network\n",
    "fake_X = real_Y + (np.ones_like(real_Y)*3.0)\n",
    "\n",
    "real_mean_Y = np.matmul(np.ones(real_Y.shape[0]).reshape(-1,1), real_Y.mean(axis=0).reshape(1,-1))\n",
    "real_mean_X = np.matmul(np.ones(real_Y.shape[0]).reshape(-1,1), real_X.mean(axis=0).reshape(1,-1))\n",
    "\n",
    "# real_y minus mean of real_Y for all y in Y\n",
    "np_A = real_Y - real_mean_Y\n",
    "\n",
    "# fake_x minus mean of X for all y in Y\n",
    "np_B = fake_X - real_mean_X\n",
    "\n",
    "cosine_distance_matrix = np.multiply(np.ones((real_Y.shape[0],1)) - cosine_similarity(np_A, np_B, dense_output=True),\n",
    "                                     np.eye(real_Y.shape[0]))\n",
    "\n",
    "cosine_distance_vector = cosine_distance_matrix.sum(axis=0)\n",
    "\n",
    "\n",
    "\n",
    "# check that each entry in our distance vector is equal to the distance of each vector in matrix A and B  \n",
    "for i in range(real_Y.shape[0]):\n",
    "    assert(abs(spat_dist.cosine(np_A[1], np_B[1]) - cosine_distance_vector[1])<0.00000001)\n",
    "    "
   ]
  },
  {
   "cell_type": "markdown",
   "metadata": {},
   "source": [
    "We now need to implement this in tensorflow and wrap in a helper function. "
   ]
  },
  {
   "cell_type": "markdown",
   "metadata": {},
   "source": [
    "### Cosine Difference Tensorflow Implementation\n",
    "\n",
    "We now implement the equivalent function in tensorflow and test the output against our numpy calculatation above."
   ]
  },
  {
   "cell_type": "code",
   "execution_count": 3,
   "metadata": {},
   "outputs": [],
   "source": [
    "## loss function\n",
    "def cosine_distance(real_1, real_mean_1, fake_2, real_mean_2):\n",
    "\n",
    "    # real_y minus mean of real_Y for all y in Y\n",
    "    A = real_1 - real_mean_1\n",
    "\n",
    "    # fake_x minus mean of X for all y in Y\n",
    "    B = fake_2 - real_mean_2\n",
    "\n",
    "    normalize_A = tf.nn.l2_normalize(A,1)        \n",
    "    normalize_B = tf.nn.l2_normalize(B,1)\n",
    "    \n",
    "    distance_matrix = 1 - tf.matmul(normalize_A, normalize_B, transpose_b=True)\n",
    "\n",
    "    distance_matrix = tf.diag_part(distance_matrix)\n",
    "    \n",
    "    distance = tf.reduce_sum(distance_matrix)\n",
    "    \n",
    "    return distance_matrix, distance\n",
    "    "
   ]
  },
  {
   "cell_type": "markdown",
   "metadata": {},
   "source": [
    "We will now test that the output of our tesorflow helper function is equivalent to our numpy implementation above."
   ]
  },
  {
   "cell_type": "code",
   "execution_count": 4,
   "metadata": {},
   "outputs": [],
   "source": [
    "# reset graph\n",
    "from tensorflow.python.framework import ops\n",
    "ops.reset_default_graph()\n",
    "g = tf.get_default_graph()\n",
    "\n",
    "# take copies\n",
    "#real_Y = np_Y\n",
    "#real_X = np_X\n",
    "#fake_X = np_Y + (np.ones_like(np_Y)*3.0)\n",
    "\n",
    "# init placeholders\n",
    "test_A = tf.placeholder(tf.float32,[None, 140], name='test_A')\n",
    "test_B = tf.placeholder(tf.float32,[None, 140], name='test_B')\n",
    "test_C = tf.placeholder(tf.float32,[None, 140], name='test_C')\n",
    "test_D = tf.placeholder(tf.float32,[None, 140], name='test_D')\n",
    "\n",
    "# define cos dist\n",
    "cost_mat, cos_dist = cosine_distance(test_A, test_B, test_C, test_D)\n",
    "\n",
    "# calculate numpy cosine distance\n",
    "with tf.Session() as sess_test:\n",
    "\n",
    "    output_cos_mat, output_cost_dist = sess_test.run([cost_mat, cos_dist], feed_dict={test_A: real_Y, \n",
    "                                                                                      test_B: real_mean_Y,\n",
    "                                                                                      test_C: fake_X, \n",
    "                                                                                      test_D: real_mean_X})\n",
    "\n",
    "assert((output_cost_dist - cosine_distance_vector.sum()) < 0.001)"
   ]
  },
  {
   "cell_type": "markdown",
   "metadata": {},
   "source": [
    "### Optimizing Cosine Difference in Tensorflow\n",
    "\n",
    "We need to be able to do more than just calculate the cosine differnce in tensorflow, we actually need to be able to minimise it over a number of iterations. We will look at a simple vector example to see how this can be done. "
   ]
  },
  {
   "cell_type": "code",
   "execution_count": 5,
   "metadata": {},
   "outputs": [
    {
     "data": {
      "image/png": "[encoded data removed]",
      "text/plain": [
       "<matplotlib.figure.Figure at 0x11c30d4a8>"
      ]
     },
     "metadata": {
      "needs_background": "light"
     },
     "output_type": "display_data"
    }
   ],
   "source": [
    "vector_A = np.array([1, 0]).reshape(1,2)\n",
    "vector_B = np.array([0, 1]).reshape(1,2)\n",
    "origin = np.array([0, 0])\n",
    "\n",
    "plt.xlim((-0.5,1.5));\n",
    "plt.ylim((-0.5,2.5));\n",
    "plt.quiver(*origin, vector_A, vector_B, color=['r','b'],angles='xy', scale_units='xy', scale=1);\n"
   ]
  },
  {
   "cell_type": "markdown",
   "metadata": {},
   "source": [
    "We aim to build a simple network which minimises the cosine difference (maximise the cosine similarity) between vector_A and vector_B, keeping vector_A constant. Essentially as we itterate and calculate the new position of vector_B we would expect the blue vector to get closer and closer to the red vector in the diagram above."
   ]
  },
  {
   "cell_type": "code",
   "execution_count": 6,
   "metadata": {},
   "outputs": [],
   "source": [
    "## loss function: \n",
    "## note: compared to cosine_distance function above I have removed subtracting mean for purposes \n",
    "## of this simple example\n",
    "def cosine_distance_simple(A, B):\n",
    "\n",
    "    normalize_A = tf.nn.l2_normalize(A,1)        \n",
    "    normalize_B = tf.nn.l2_normalize(B,1)\n",
    "\n",
    "    distance_matrix = 1 - tf.matmul(normalize_A, normalize_B, transpose_b=True)\n",
    "\n",
    "    distance_matrix = tf.diag_part(distance_matrix)\n",
    "\n",
    "    distance = tf.reduce_sum(distance_matrix)\n",
    "\n",
    "    return distance"
   ]
  },
  {
   "cell_type": "markdown",
   "metadata": {},
   "source": [
    "### Helper Functions"
   ]
  },
  {
   "cell_type": "code",
   "execution_count": 7,
   "metadata": {},
   "outputs": [],
   "source": [
    "import math\n",
    "import numpy as np\n",
    "import tensorflow as tf\n",
    "import tensorflow.contrib.slim as slim\n",
    "from tensorflow.python.framework import ops\n",
    "\n",
    "# from utils import *\n",
    "\n",
    "##### New Helper Functions\n",
    "\n",
    "# weight and bais wrappers\n",
    "def weight_variable(name, shape):\n",
    "    \"\"\"\n",
    "    Create a weight variable with appropriate initialization\n",
    "    :param name: weight name\n",
    "    :param shape: weight shape\n",
    "    :return: initialized weight variable\n",
    "    \"\"\"\n",
    "    initer = tf.truncated_normal_initializer(stddev=1.0)\n",
    "    return tf.get_variable('W_' + name,\n",
    "                           dtype=tf.float32,\n",
    "                           shape=shape,\n",
    "                           initializer=initer)\n",
    "\n",
    "def bias_variable(name, shape):\n",
    "    \"\"\"\n",
    "    Create a bias variable with appropriate initialization\n",
    "    :param name: bias variable name\n",
    "    :param shape: bias variable shape\n",
    "    :return: initialized bias variable\n",
    "    \"\"\"\n",
    "    initial = tf.constant(0., shape=shape, dtype=tf.float32)\n",
    "    return tf.get_variable('b_' + name,\n",
    "                           dtype=tf.float32,\n",
    "                           initializer=initial)\n",
    " \n",
    "\n",
    "def fc_layer(x, num_units, name, use_relu=True):\n",
    "    \"\"\"\n",
    "    Create a fully-connected layer\n",
    "    :param x: input from previous layer\n",
    "    :param num_units: number of hidden units in the fully-connected layer\n",
    "    :param name: layer name\n",
    "    :param use_relu: boolean to add ReLU non-linearity (or not)\n",
    "    :return: The output array\n",
    "    \"\"\"\n",
    "    in_dim = x.get_shape()[1]\n",
    "    W = weight_variable(name, shape=[in_dim, num_units])\n",
    "    b = bias_variable(name, [num_units])\n",
    "    layer = tf.matmul(x, W)\n",
    "    layer += b\n",
    "    if use_relu:\n",
    "        #layer = tf.nn.relu(tf.nn.tanh(layer))\n",
    "        layer = tf.nn.relu(layer)\n",
    "    return layer\n"
   ]
  },
  {
   "cell_type": "markdown",
   "metadata": {},
   "source": [
    "### Loss functions"
   ]
  },
  {
   "cell_type": "code",
   "execution_count": 8,
   "metadata": {},
   "outputs": [],
   "source": [
    "## loss function\n",
    "def cosine_distance_simple(A, B):\n",
    "\n",
    "    normalize_A = tf.nn.l2_normalize(A,1)        \n",
    "    normalize_B = tf.nn.l2_normalize(B,1)\n",
    "\n",
    "    distance_matrix = 1 - tf.matmul(normalize_A, normalize_B, transpose_b=True)\n",
    "\n",
    "    distance_matrix = tf.diag_part(distance_matrix)\n",
    "\n",
    "    distance = tf.reduce_sum(distance_matrix)\n",
    "    \n",
    "    #distance = tf.losses.cosine_distance(A,B,axis=1)\n",
    "\n",
    "    return distance\n",
    "\n",
    "def maintain_length(A, B):\n",
    "\n",
    "    return abs(tf.norm(A) - tf.norm(B))\n",
    "\n",
    "    "
   ]
  },
  {
   "cell_type": "markdown",
   "metadata": {},
   "source": [
    "### Neural Network"
   ]
  },
  {
   "cell_type": "code",
   "execution_count": 9,
   "metadata": {},
   "outputs": [],
   "source": [
    "from __future__ import division\n",
    "import tensorflow as tf\n",
    "\n",
    "# generator network without residual block\n",
    "def generator(vector, reuse=False, name=\"generator\"):\n",
    "\n",
    "    with tf.variable_scope(name):\n",
    "        if reuse:\n",
    "            tf.get_variable_scope().reuse_variables()\n",
    "        else:\n",
    "            assert tf.get_variable_scope().reuse is False\n",
    "            \n",
    "        output_dimension = vector.shape[1]\n",
    "\n",
    "        e1 = fc_layer(vector, 64, name='g_e1', use_relu=True)\n",
    "        e2 = fc_layer(e1, 128, name='g_e2', use_relu=True)    \n",
    "        e3 = fc_layer(e2, 256, name='g_e3', use_relu=True)\n",
    "        e4 = fc_layer(e3, 512, name='g_e4', use_relu=True)\n",
    "        e5 = fc_layer(e4, 256, name='g_e5', use_relu=True)\n",
    "        e6 = fc_layer(e5, 128, name='g_e6', use_relu=True)\n",
    "        e7 = fc_layer(e6, 64, name='g_e7', use_relu=True)\n",
    "        e8 = fc_layer(e7, output_dimension, name='g_e8', use_relu=False)\n",
    "\n",
    "\n",
    "        return e8\n"
   ]
  },
  {
   "cell_type": "markdown",
   "metadata": {},
   "source": [
    "### Model"
   ]
  },
  {
   "cell_type": "code",
   "execution_count": 10,
   "metadata": {},
   "outputs": [],
   "source": [
    "from __future__ import division\n",
    "import os\n",
    "import time\n",
    "from glob import glob\n",
    "import tensorflow as tf\n",
    "import numpy as np\n",
    "from collections import namedtuple\n",
    "from sklearn.model_selection import train_test_split\n",
    "\n",
    "# from module import *\n",
    "# from utils import *\n",
    "\n",
    "class cosine_diff_test(object):\n",
    "    def __init__(self, sess, args):\n",
    "        # initialise tensorflow session\n",
    "        self.sess = sess\n",
    "                \n",
    "        # data, test, train splits\n",
    "        self.data_A = args.vA\n",
    "        self.data_B = args.vB\n",
    "        \n",
    "        self.generator = generator\n",
    "        \n",
    "        # when an instance of class cycleGAN is created, build model is automatically called\n",
    "        self._build_model()\n",
    "        \n",
    "        \n",
    "    def _build_model(self):\n",
    "        \n",
    "        #### INPUTS TO NETWORKS\n",
    "        # placeholder for vectors\n",
    "        self.vector_A = tf.placeholder(tf.float32,\n",
    "                                     [None, 2],\n",
    "                                     name='vector_A')\n",
    "        self.vector_B = tf.placeholder(tf.float32,\n",
    "                                    [None, 2],\n",
    "                                    name='vector_B')\n",
    "        \n",
    "        # FCNN to determine vector move required\n",
    "        self.vector_B_ = self.generator(self.vector_B, False, name=\"generatorB\")\n",
    "        \n",
    "        # minimise cos_dist between A and B while keeping A same\n",
    "        self.dist = cosine_distance_simple(self.vector_A, self.vector_B_)\n",
    "        self.len = maintain_length(self.vector_B, self.vector_B_)\n",
    "        \n",
    "        self.loss = cosine_distance_simple(self.vector_A, self.vector_B_) \\\n",
    "                    + maintain_length(self.vector_B, self.vector_B_)\n",
    "        \n",
    "        # trainable variables\n",
    "        t_vars = tf.trainable_variables()\n",
    "\n",
    "        # training variables for generator\n",
    "        self.g_vars = [var for var in t_vars if 'generator' in var.name]\n",
    "\n",
    "\n",
    "    def train(self, args):\n",
    "        # placeholder for learning rate\n",
    "        self.lr = tf.placeholder(tf.float32, None, name='learning_rate')\n",
    "\n",
    "        # define optimizer\n",
    "        self.optimimizer = tf.train.AdamOptimizer(self.lr, beta1=args.beta1).minimize(self.loss, var_list=self.g_vars)\n",
    "        \n",
    "        \n",
    "        # initialise global varibles and run session\n",
    "        init_op = tf.global_variables_initializer()\n",
    "        self.sess.run(init_op)\n",
    "        \n",
    "        # learning rate\n",
    "        lr = args.lr\n",
    "        \n",
    "        \n",
    "        # iterate over the number of epochs definied\n",
    "        for epoch in range(args.epoch):\n",
    "            \n",
    "            # Import Data\n",
    "            vecA = self.data_A.copy()\n",
    "            vecB = self.data_B.copy()\n",
    "            \n",
    "            # Update \n",
    "            vector_B_transformed, _, loss_, dist_, len_ = self.sess.run(\n",
    "                [self.vector_B_, self.optimimizer, self.loss, self.dist, self.len],\n",
    "                feed_dict={self.vector_A: vecA, \n",
    "                           self.vector_B: vecB,  \n",
    "                           self.lr: lr})\n",
    "            \n",
    "            # print loss summaries \n",
    "            if epoch % 1000 == 0:\n",
    "                print('Total Loss: ', loss_, ', Cosine Distance: ', dist_, \n",
    "                      ', Input Vector Length - Output Vector Length: ', len_)\n",
    "        \n",
    "        print('Transformed vector: ', vector_B_transformed)\n",
    "\n",
    "        \n"
   ]
  },
  {
   "cell_type": "markdown",
   "metadata": {},
   "source": [
    "### Training Parameters"
   ]
  },
  {
   "cell_type": "code",
   "execution_count": 11,
   "metadata": {},
   "outputs": [],
   "source": [
    "class Args():\n",
    "    A_vec = np.array([0, 1]).reshape(1,2)\n",
    "    B_vec = np.array([1, 0]).reshape(1,2)    \n",
    "    ori = np.array([0, 0])\n",
    " \n",
    "    epoch = 100000\n",
    "    lr = 0.002\n",
    "    vA = A_vec\n",
    "    vB = B_vec\n",
    "    beta1 = 0.5\n",
    "    orig = ori\n",
    "    \n",
    "args = Args()"
   ]
  },
  {
   "cell_type": "markdown",
   "metadata": {},
   "source": [
    "### Train and Output"
   ]
  },
  {
   "cell_type": "code",
   "execution_count": 12,
   "metadata": {},
   "outputs": [
    {
     "name": "stdout",
     "output_type": "stream",
     "text": [
      "Total Loss:  273469.0 , Cosine Distance:  1.2342865 , Input Vector Length - Output Vector Length:  273467.78\n",
      "Total Loss:  19949.8 , Cosine Distance:  0.16443694 , Input Vector Length - Output Vector Length:  19949.637\n",
      "Total Loss:  11898.361 , Cosine Distance:  1.9985712 , Input Vector Length - Output Vector Length:  11896.362\n",
      "Total Loss:  8281.815 , Cosine Distance:  0.009062409 , Input Vector Length - Output Vector Length:  8281.807\n",
      "Total Loss:  1982.3037 , Cosine Distance:  1.9974986 , Input Vector Length - Output Vector Length:  1980.3062\n",
      "Total Loss:  1903.7356 , Cosine Distance:  0.02151668 , Input Vector Length - Output Vector Length:  1903.7141\n",
      "Total Loss:  1258.0659 , Cosine Distance:  1.2048289 , Input Vector Length - Output Vector Length:  1256.8611\n",
      "Total Loss:  732.4259 , Cosine Distance:  0.21921992 , Input Vector Length - Output Vector Length:  732.20667\n",
      "Total Loss:  1652.827 , Cosine Distance:  0.97938013 , Input Vector Length - Output Vector Length:  1651.8477\n",
      "Total Loss:  111.324005 , Cosine Distance:  0.76276374 , Input Vector Length - Output Vector Length:  110.56124\n",
      "Total Loss:  436.7962 , Cosine Distance:  1.8102552 , Input Vector Length - Output Vector Length:  434.98596\n",
      "Total Loss:  78.62038 , Cosine Distance:  1.1786344 , Input Vector Length - Output Vector Length:  77.44174\n",
      "Total Loss:  20.270622 , Cosine Distance:  1.2187662 , Input Vector Length - Output Vector Length:  19.051855\n",
      "Total Loss:  12.440794 , Cosine Distance:  0.9722457 , Input Vector Length - Output Vector Length:  11.468548\n",
      "Total Loss:  10.907664 , Cosine Distance:  0.6967126 , Input Vector Length - Output Vector Length:  10.210952\n",
      "Total Loss:  12.652391 , Cosine Distance:  1.8155806 , Input Vector Length - Output Vector Length:  10.836811\n",
      "Total Loss:  0.08664799 , Cosine Distance:  0.00012671947 , Input Vector Length - Output Vector Length:  0.08652127\n",
      "Total Loss:  0.1544708 , Cosine Distance:  5.364418e-06 , Input Vector Length - Output Vector Length:  0.15446544\n",
      "Total Loss:  0.9086454 , Cosine Distance:  0.39845902 , Input Vector Length - Output Vector Length:  0.5101864\n",
      "Total Loss:  0.18320537 , Cosine Distance:  4.172325e-06 , Input Vector Length - Output Vector Length:  0.1832012\n",
      "Total Loss:  0.07330626 , Cosine Distance:  0.0015667677 , Input Vector Length - Output Vector Length:  0.071739495\n",
      "Total Loss:  0.0126821995 , Cosine Distance:  2.7537346e-05 , Input Vector Length - Output Vector Length:  0.012654662\n",
      "Total Loss:  0.026174426 , Cosine Distance:  1.1920929e-07 , Input Vector Length - Output Vector Length:  0.026174307\n",
      "Total Loss:  4.7683716e-05 , Cosine Distance:  0.0 , Input Vector Length - Output Vector Length:  4.7683716e-05\n",
      "Total Loss:  0.0015432835 , Cosine Distance:  0.0 , Input Vector Length - Output Vector Length:  0.0015432835\n",
      "Total Loss:  0.006874919 , Cosine Distance:  0.0 , Input Vector Length - Output Vector Length:  0.006874919\n",
      "Total Loss:  0.0012041926 , Cosine Distance:  0.0 , Input Vector Length - Output Vector Length:  0.0012041926\n",
      "Total Loss:  0.004153013 , Cosine Distance:  1.1920929e-07 , Input Vector Length - Output Vector Length:  0.004152894\n",
      "Total Loss:  0.00811255 , Cosine Distance:  5.9604645e-08 , Input Vector Length - Output Vector Length:  0.00811249\n",
      "Total Loss:  0.003342867 , Cosine Distance:  0.0 , Input Vector Length - Output Vector Length:  0.003342867\n",
      "Total Loss:  0.0085532665 , Cosine Distance:  0.0 , Input Vector Length - Output Vector Length:  0.0085532665\n",
      "Total Loss:  0.0036526918 , Cosine Distance:  0.0 , Input Vector Length - Output Vector Length:  0.0036526918\n",
      "Total Loss:  0.001598835 , Cosine Distance:  0.0 , Input Vector Length - Output Vector Length:  0.001598835\n",
      "Total Loss:  0.010420918 , Cosine Distance:  1.1920929e-07 , Input Vector Length - Output Vector Length:  0.010420799\n",
      "Total Loss:  0.0005428195 , Cosine Distance:  1.1920929e-07 , Input Vector Length - Output Vector Length:  0.0005427003\n",
      "Total Loss:  0.007088542 , Cosine Distance:  0.0 , Input Vector Length - Output Vector Length:  0.007088542\n",
      "Total Loss:  0.0037599802 , Cosine Distance:  0.0 , Input Vector Length - Output Vector Length:  0.0037599802\n",
      "Total Loss:  0.011262476 , Cosine Distance:  0.0 , Input Vector Length - Output Vector Length:  0.011262476\n",
      "Total Loss:  0.0029596686 , Cosine Distance:  0.0 , Input Vector Length - Output Vector Length:  0.0029596686\n",
      "Total Loss:  0.0008981228 , Cosine Distance:  0.0 , Input Vector Length - Output Vector Length:  0.0008981228\n",
      "Total Loss:  0.009352922 , Cosine Distance:  0.0 , Input Vector Length - Output Vector Length:  0.009352922\n",
      "Total Loss:  0.001922369 , Cosine Distance:  0.0 , Input Vector Length - Output Vector Length:  0.001922369\n",
      "Total Loss:  0.008274674 , Cosine Distance:  0.0 , Input Vector Length - Output Vector Length:  0.008274674\n",
      "Total Loss:  0.007952988 , Cosine Distance:  5.9604645e-08 , Input Vector Length - Output Vector Length:  0.007952929\n",
      "Total Loss:  0.0009813905 , Cosine Distance:  0.0 , Input Vector Length - Output Vector Length:  0.0009813905\n",
      "Total Loss:  0.0013571978 , Cosine Distance:  0.0 , Input Vector Length - Output Vector Length:  0.0013571978\n",
      "Total Loss:  0.0034154654 , Cosine Distance:  6.2584877e-06 , Input Vector Length - Output Vector Length:  0.0034092069\n",
      "Total Loss:  0.0047160983 , Cosine Distance:  2.3841858e-07 , Input Vector Length - Output Vector Length:  0.00471586\n",
      "Total Loss:  0.0048176646 , Cosine Distance:  1.3411045e-05 , Input Vector Length - Output Vector Length:  0.0048042536\n",
      "Total Loss:  0.0032433271 , Cosine Distance:  2.9802322e-07 , Input Vector Length - Output Vector Length:  0.0032430291\n",
      "Total Loss:  0.00067579746 , Cosine Distance:  4.172325e-06 , Input Vector Length - Output Vector Length:  0.00067162514\n",
      "Total Loss:  0.0072116256 , Cosine Distance:  1.013279e-06 , Input Vector Length - Output Vector Length:  0.0072106123\n",
      "Total Loss:  0.00035566092 , Cosine Distance:  1.1920929e-06 , Input Vector Length - Output Vector Length:  0.00035446882\n",
      "Total Loss:  0.002022624 , Cosine Distance:  0.0 , Input Vector Length - Output Vector Length:  0.002022624\n",
      "Total Loss:  0.0017809868 , Cosine Distance:  7.748604e-07 , Input Vector Length - Output Vector Length:  0.0017802119\n",
      "Total Loss:  0.0037055016 , Cosine Distance:  9.536743e-07 , Input Vector Length - Output Vector Length:  0.0037045479\n",
      "Total Loss:  0.0080935955 , Cosine Distance:  2.6226044e-06 , Input Vector Length - Output Vector Length:  0.008090973\n",
      "Total Loss:  0.0004326105 , Cosine Distance:  8.34465e-07 , Input Vector Length - Output Vector Length:  0.00043177605\n",
      "Total Loss:  0.003455162 , Cosine Distance:  0.0 , Input Vector Length - Output Vector Length:  0.003455162\n",
      "Total Loss:  0.0025169253 , Cosine Distance:  7.748604e-07 , Input Vector Length - Output Vector Length:  0.0025161505\n",
      "Total Loss:  0.0009223223 , Cosine Distance:  0.0 , Input Vector Length - Output Vector Length:  0.0009223223\n",
      "Total Loss:  0.0047835708 , Cosine Distance:  1.4901161e-06 , Input Vector Length - Output Vector Length:  0.0047820807\n",
      "Total Loss:  0.00023895502 , Cosine Distance:  5.00679e-06 , Input Vector Length - Output Vector Length:  0.00023394823\n",
      "Total Loss:  0.006512165 , Cosine Distance:  2.3841858e-07 , Input Vector Length - Output Vector Length:  0.0065119267\n",
      "Total Loss:  0.0026250482 , Cosine Distance:  2.3841858e-07 , Input Vector Length - Output Vector Length:  0.0026248097\n",
      "Total Loss:  0.0045130253 , Cosine Distance:  2.3841858e-07 , Input Vector Length - Output Vector Length:  0.004512787\n",
      "Total Loss:  0.0009921789 , Cosine Distance:  5.9604645e-07 , Input Vector Length - Output Vector Length:  0.0009915829\n",
      "Total Loss:  0.003098607 , Cosine Distance:  2.3841858e-07 , Input Vector Length - Output Vector Length:  0.0030983686\n",
      "Total Loss:  0.00034034252 , Cosine Distance:  8.34465e-07 , Input Vector Length - Output Vector Length:  0.00033950806\n",
      "Total Loss:  0.007193804 , Cosine Distance:  1.5497208e-06 , Input Vector Length - Output Vector Length:  0.007192254\n",
      "Total Loss:  0.000859499 , Cosine Distance:  3.5762787e-07 , Input Vector Length - Output Vector Length:  0.00085914135\n",
      "Total Loss:  0.006720662 , Cosine Distance:  1.5497208e-06 , Input Vector Length - Output Vector Length:  0.0067191124\n"
     ]
    },
    {
     "name": "stdout",
     "output_type": "stream",
     "text": [
      "Total Loss:  0.0011026859 , Cosine Distance:  5.9604645e-07 , Input Vector Length - Output Vector Length:  0.0011020899\n",
      "Total Loss:  0.006572962 , Cosine Distance:  1.3709068e-06 , Input Vector Length - Output Vector Length:  0.006571591\n",
      "Total Loss:  0.0011287928 , Cosine Distance:  2.3841858e-07 , Input Vector Length - Output Vector Length:  0.0011285543\n",
      "Total Loss:  0.003591299 , Cosine Distance:  3.5762787e-07 , Input Vector Length - Output Vector Length:  0.0035909414\n",
      "Total Loss:  0.00092720985 , Cosine Distance:  5.9604645e-07 , Input Vector Length - Output Vector Length:  0.0009266138\n",
      "Total Loss:  0.0032573938 , Cosine Distance:  9.536743e-07 , Input Vector Length - Output Vector Length:  0.0032564402\n",
      "Total Loss:  0.00050878525 , Cosine Distance:  2.3841858e-07 , Input Vector Length - Output Vector Length:  0.00050854683\n",
      "Total Loss:  0.0027372837 , Cosine Distance:  4.7683716e-07 , Input Vector Length - Output Vector Length:  0.0027368069\n",
      "Total Loss:  0.0011398792 , Cosine Distance:  0.0 , Input Vector Length - Output Vector Length:  0.0011398792\n",
      "Total Loss:  0.0021852255 , Cosine Distance:  9.298325e-06 , Input Vector Length - Output Vector Length:  0.0021759272\n",
      "Total Loss:  0.005577147 , Cosine Distance:  2.2053719e-06 , Input Vector Length - Output Vector Length:  0.0055749416\n",
      "Total Loss:  0.0036017895 , Cosine Distance:  4.7683716e-07 , Input Vector Length - Output Vector Length:  0.0036013126\n",
      "Total Loss:  0.00016582012 , Cosine Distance:  3.5762787e-07 , Input Vector Length - Output Vector Length:  0.0001654625\n",
      "Total Loss:  0.0035648346 , Cosine Distance:  0.0 , Input Vector Length - Output Vector Length:  0.0035648346\n",
      "Total Loss:  0.0031677485 , Cosine Distance:  0.0 , Input Vector Length - Output Vector Length:  0.0031677485\n",
      "Total Loss:  0.0013549924 , Cosine Distance:  3.5762787e-07 , Input Vector Length - Output Vector Length:  0.0013546348\n",
      "Total Loss:  0.002271533 , Cosine Distance:  0.0 , Input Vector Length - Output Vector Length:  0.002271533\n",
      "Total Loss:  0.0022640228 , Cosine Distance:  3.5762787e-07 , Input Vector Length - Output Vector Length:  0.0022636652\n",
      "Total Loss:  0.0012471676 , Cosine Distance:  0.0 , Input Vector Length - Output Vector Length:  0.0012471676\n",
      "Total Loss:  0.0032966733 , Cosine Distance:  4.172325e-07 , Input Vector Length - Output Vector Length:  0.003296256\n",
      "Total Loss:  0.00012683868 , Cosine Distance:  0.0 , Input Vector Length - Output Vector Length:  0.00012683868\n",
      "Total Loss:  0.007468879 , Cosine Distance:  1.1742115e-05 , Input Vector Length - Output Vector Length:  0.007457137\n",
      "Total Loss:  0.00019550323 , Cosine Distance:  1.7881393e-07 , Input Vector Length - Output Vector Length:  0.00019532442\n",
      "Total Loss:  0.005694866 , Cosine Distance:  1.0728836e-06 , Input Vector Length - Output Vector Length:  0.0056937933\n",
      "Total Loss:  0.0026522279 , Cosine Distance:  4.172325e-07 , Input Vector Length - Output Vector Length:  0.0026518106\n",
      "Total Loss:  0.0030976534 , Cosine Distance:  4.7683716e-07 , Input Vector Length - Output Vector Length:  0.0030971766\n",
      "Total Loss:  0.00047826767 , Cosine Distance:  5.066395e-06 , Input Vector Length - Output Vector Length:  0.00047320127\n",
      "Total Loss:  0.0037486553 , Cosine Distance:  0.0 , Input Vector Length - Output Vector Length:  0.0037486553\n",
      "Transformed vector:  [[-1.1026859e-06  1.0029022e+00]]\n"
     ]
    }
   ],
   "source": [
    "# TRAIN\n",
    "tf.reset_default_graph()\n",
    "\n",
    "tfconfig = tf.ConfigProto(allow_soft_placement=True)\n",
    "tfconfig.gpu_options.allow_growth = True\n",
    "with tf.Session(config=tfconfig) as sess:\n",
    "    model = cosine_diff_test(sess, args)\n",
    "    model.train(args) "
   ]
  },
  {
   "cell_type": "markdown",
   "metadata": {},
   "source": [
    "### Excersize: \n",
    "\n",
    "See if you can find a deep NN that can work out a mapping between any vectors within a circle of radius 1 and (0,1)"
   ]
  },
  {
   "cell_type": "code",
   "execution_count": 14,
   "metadata": {},
   "outputs": [
    {
     "data": {
      "image/png": "[encoded data removed]",
      "text/plain": [
       "<matplotlib.figure.Figure at 0x11eed58d0>"
      ]
     },
     "metadata": {
      "needs_background": "light"
     },
     "output_type": "display_data"
    }
   ],
   "source": [
    "# generate random points in a circle\n",
    "# https://gist.github.com/makokal/6883810\n",
    "\n",
    "import numpy as np \n",
    "%matplotlib inline\n",
    "\n",
    "num_samples = 1000\n",
    "\n",
    "# make a simple unit circle \n",
    "theta = np.linspace(0, 2*np.pi, num_samples)\n",
    "a, b = 1 * np.cos(theta), 1 * np.sin(theta)\n",
    "\n",
    "# generate the points\n",
    "# theta = np.random.rand((num_samples)) * (2 * np.pi)\n",
    "r = np.random.rand((num_samples))\n",
    "x, y = r * np.cos(theta), r * np.sin(theta)\n",
    "\n",
    "# plots\n",
    "plt.figure(figsize=(7,6))\n",
    "plt.plot(a, b, linestyle='-', linewidth=2, label='Circle')\n",
    "plt.plot(x, y, marker='o', label='Samples')\n",
    "plt.ylim([-1.5,1.5])\n",
    "plt.xlim([-1.5,1.5])\n",
    "plt.grid()\n",
    "plt.legend(loc='upper right')\n",
    "plt.show(block=True)\n",
    "\n",
    "# reshape arrays\n",
    "x = x.reshape(-1,1)\n",
    "y = y.reshape(-1,1)\n",
    "test = np.concatenate([x,y], axis=1)"
   ]
  }
 ],
 "metadata": {
  "kernelspec": {
   "display_name": "Python [conda env:cariGAN]",
   "language": "python",
   "name": "conda-env-cariGAN-py"
  },
  "language_info": {
   "codemirror_mode": {
    "name": "ipython",
    "version": 3
   },
   "file_extension": ".py",
   "mimetype": "text/x-python",
   "name": "python",
   "nbconvert_exporter": "python",
   "pygments_lexer": "ipython3",
   "version": "3.6.9"
  }
 },
 "nbformat": 4,
 "nbformat_minor": 2
}
