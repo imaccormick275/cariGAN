{
 "cells": [
  {
   "cell_type": "markdown",
   "metadata": {},
   "source": [
    "# cariGeoGAN vs CycleGAN"
   ]
  },
  {
   "cell_type": "markdown",
   "metadata": {},
   "source": [
    "<img src=\"notebook_images/scrnsht1.png\">"
   ]
  },
  {
   "cell_type": "markdown",
   "metadata": {},
   "source": [
    "### CariGeoGAN vs CycleGAN: Key differences:\n",
    "\n",
    "We take an indepth look at the key differences between the CariGeoGAN and CycleGAN, and start to look at how this will affect the implementation. Namely:\n",
    "* PCA representation of coordinates as input vs image input and the impact this has on: \n",
    "    1. Generator network architecture\n",
    "    2. Discriminator network architecture\n",
    "* Characteristic loss\n"
   ]
  },
  {
   "cell_type": "markdown",
   "metadata": {},
   "source": [
    "### PCA representation of Landmarks input vs Image Input\n",
    "\n",
    "This affects the structure of the generator networks as in cycleGAN we are expecting an array of images as input. Specifically rather than using convolutional layers we must use fully connected layers in the generator and the discriminator networks. "
   ]
  },
  {
   "cell_type": "markdown",
   "metadata": {},
   "source": [
    "### CariGeoGAN Generator/Discriminator:\n",
    "\n",
    "Our CariGeoGAN is different from CycleGAN since it takes PCA vector instead of image as input and output. \"To incorporate the PCA landmark representation with GAN, we replace all CONV-ReLu blocks with FC-ReLu blocks in both generators and discriminators.\"\n",
    "\n",
    "* Input to generator netowrk is the PCA vector of dimension k=32\n",
    "* Output of the generator network is the PCA vector also of dimension k=32\n",
    "* Network is fully connected\n",
    "* Network arcitecture is not specified - how many layers/how many neurons per layer etc"
   ]
  },
  {
   "cell_type": "markdown",
   "metadata": {},
   "source": [
    "### Characteristic Loss Function\n",
    "\n",
    "##### New Characteristic Loss \n",
    "\n",
    "We look at implementing this characteristic loss function in a seperate workbook.\n",
    "\n",
    "The underlying idea is that the differences from a face to the mean face represent its most distinctive features and thus should be kept after exaggeration. For example, if a face has a larger nose compared to a normal face, this distinctiveness will be preserved or even exaggerated after converting to caricature.\n",
    "\n",
    "This is achieved by penalising the cosine differences between input landmark lx ∈ LX and the predicted one GLY (lx ) after subtracting its corresponding means:\n",
    "\n",
    "* $ L_{cha}^{L_Y} (G_{L_Y}) = E_{l_x  L_X}[1 - cos(l_x - \\overline{L_X}, G_{L_Y}(l_x) - \\overline{L_{Y}})]$\n",
    "* $ L_{cha}^{L_X} (G_{L_X}) = E_{l_y  L_Y}[1 - cos(l_y - \\overline{L_Y}, G_{L_X}(l_y) - \\overline{L_{X}})]$\n",
    "\n",
    "\n",
    "<b>Definitions:</b>\n",
    "* $l_{x}$ - individual pca_vector within pca_matrix relating to image $x \\in X$\n",
    "* $l_{y}$ - individual pca_vector within pca_matrix relating to image $y \\in Y$\n",
    "* $\\overline{L_X}$ - mean of pca_matrix X\n",
    "\n",
    "* $\\overline{L_Y}$ - mean of pca_matrix Y\n",
    "* $l_x - \\overline{L_X}$ - difference between given pca vector x and mean of pca_matrix X\n",
    "* $l_y - \\overline{L_Y}$ - difference between given pca vector y and mean of pca_matrix Y\n",
    "\n",
    "* $G_{L_Y}(l_x) - \\overline{L_{Y}}$ - difference between generated (fake) pca vector y and mean of pca_matrix Y\n",
    "\n",
    "<b>Resources:</b>\n",
    "* https://medium.com/@zhang_yang/cosine-similarity-dot-product-for-normalized-vectors-c07bdb61c9d1\n",
    "\n",
    "NOTE: cosine difference is simply 1 minus cosine similarity"
   ]
  },
  {
   "cell_type": "markdown",
   "metadata": {},
   "source": [
    "### Total Objective Function"
   ]
  },
  {
   "cell_type": "markdown",
   "metadata": {},
   "source": [
    "Our objective function for optimizing CariGeoGAN is:\n",
    "\n",
    "$L_{geo} = L_{adv}^{L_X} + L_{adv}^{L_Y} + (\\lambda_{cyc} \\cdot L_{cyc}) + (\\lambda_{cha} \\cdot ( L_{cha}^{L_X} + L_{cha}^{L_Y} )) $\n",
    "\n",
    "Where $\\lambda_{cyc}$ and $\\lambda_{cha}$ balance the multiple objective functions"
   ]
  },
  {
   "cell_type": "markdown",
   "metadata": {},
   "source": [
    "## CariGeoGAN Overview"
   ]
  },
  {
   "cell_type": "markdown",
   "metadata": {},
   "source": [
    "<b>CariGeoGAN Workflow:</b>"
   ]
  },
  {
   "cell_type": "markdown",
   "metadata": {},
   "source": [
    "<img src=\"notebook_images/scrnsht2.png\">"
   ]
  }
 ],
 "metadata": {
  "kernelspec": {
   "display_name": "Python [conda env:cariGeoGAN]",
   "language": "python",
   "name": "conda-env-cariGeoGAN-py"
  },
  "language_info": {
   "codemirror_mode": {
    "name": "ipython",
    "version": 3
   },
   "file_extension": ".py",
   "mimetype": "text/x-python",
   "name": "python",
   "nbconvert_exporter": "python",
   "pygments_lexer": "ipython3",
   "version": "3.6.9"
  }
 },
 "nbformat": 4,
 "nbformat_minor": 2
}
